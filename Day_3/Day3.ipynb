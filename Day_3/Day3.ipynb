{
 "cells": [
  {
   "cell_type": "markdown",
   "metadata": {},
   "source": [
    "# --- Day 3: Gear Ratios ---\n",
    "You and the Elf eventually reach a gondola lift station; he says the gondola lift will take you up to the water source, but this is as far as he can bring you. You go inside.\n",
    "\n",
    "It doesn't take long to find the gondolas, but there seems to be a problem: they're not moving.\n",
    "\n",
    "\"Aaah!\"\n",
    "\n",
    "You turn around to see a slightly-greasy Elf with a wrench and a look of surprise. \"Sorry, I wasn't expecting anyone! The gondola lift isn't working right now; it'll still be a while before I can fix it.\" You offer to help.\n",
    "\n",
    "The engineer explains that an engine part seems to be missing from the engine, but nobody can figure out which one. If you can add up all the part numbers in the engine schematic, it should be easy to work out which part is missing.\n",
    "\n",
    "The engine schematic (your puzzle input) consists of a visual representation of the engine. There are lots of numbers and symbols you don't really understand, but apparently any number adjacent to a symbol, even diagonally, is a \"part number\" and should be included in your sum. (Periods (.) do not count as a symbol.)\n",
    "\n",
    "Here is an example engine schematic:\n",
    "\n",
    "467..114..\n",
    "\n",
    "...*......\n",
    "\n",
    "..35..633.\n",
    "\n",
    "......#...\n",
    "\n",
    "617*......\n",
    "\n",
    ".....+.58.\n",
    "\n",
    "..592.....\n",
    "\n",
    "......755.\n",
    "\n",
    "...$.*....\n",
    "\n",
    ".664.598..\n",
    "\n",
    "In this schematic, two numbers are not part numbers because they are not adjacent to a symbol: 114 (top right) and 58 (middle right). Every other number is adjacent to a symbol and so is a part number; their sum is 4361.\n",
    "\n",
    "Of course, the actual engine schematic is much larger. What is the sum of all of the part numbers in the engine schematic?"
   ]
  },
  {
   "cell_type": "code",
   "execution_count": 1,
   "metadata": {},
   "outputs": [],
   "source": [
    "from re import compile as re_compile, finditer as re_finditer\n",
    "\n",
    "def parseMap(input):\n",
    "    splitted_input = input.split(\"\\n\")\n",
    "    parsed_dict = {\n",
    "        \"map_size\": (len(splitted_input[0]), len(splitted_input)),\n",
    "        \"numbers\": [],\n",
    "        \"symbols\": []\n",
    "    }\n",
    "    for line_number, line in enumerate(splitted_input):\n",
    "        # print(line)\n",
    "        number_pattern = re_compile(r\"[0-9]+\")\n",
    "        symbol_pattern = re_compile(r\"[^0-9\\.]+\")\n",
    "        _numbers = parsed_dict[\"numbers\"]\n",
    "        _symbols = parsed_dict[\"symbols\"]\n",
    "        for m in re_finditer(number_pattern, line):\n",
    "            _span = m.span()\n",
    "            _numbers.append(((line_number, _span[0], _span[1]), int(m.group(0))))\n",
    "        for m in re_finditer(symbol_pattern, line):\n",
    "            _span = m.span()\n",
    "            _symbols.append(((line_number, _span[0]), m.group(0)))\n",
    "    return parsed_dict"
   ]
  },
  {
   "cell_type": "code",
   "execution_count": 2,
   "metadata": {},
   "outputs": [
    {
     "name": "stdout",
     "output_type": "stream",
     "text": [
      "537732\n"
     ]
    }
   ],
   "source": [
    "with open(\"Day3.txt\") as f:\n",
    "    input = f.read()\n",
    "    sum_ids = 0\n",
    "    parsed_map = parseMap(input)\n",
    "    _sum = 0\n",
    "    for i, number in enumerate(parsed_map[\"numbers\"]):\n",
    "        number_ = number[0]\n",
    "        boundaries = ((max(0, number_[1] - 1), number_[2]), (max(0, number_[0] - 1), min(number_[0] + 1, parsed_map[\"map_size\"][1])))\n",
    "        for j, symbol in enumerate(parsed_map[\"symbols\"]):\n",
    "            if symbol[0][1] >= boundaries[0][0] and symbol[0][1] <= boundaries[0][1] and symbol[0][0] >= boundaries[1][0] and symbol[0][0] <= boundaries[1][1]:\n",
    "                # print(f\"number {number[1]} at position {number[0]} is next to symbol {symbol[1]} at position {symbol[0]} with boundaries {boundaries}\")\n",
    "                _sum += number[1]\n",
    "                break\n",
    "    print(_sum)"
   ]
  },
  {
   "cell_type": "markdown",
   "metadata": {},
   "source": [
    "# --- Part Two ---\n",
    "The engineer finds the missing part and installs it in the engine! As the engine springs to life, you jump in the closest gondola, finally ready to ascend to the water source.\n",
    "\n",
    "You don't seem to be going very fast, though. Maybe something is still wrong? Fortunately, the gondola has a phone labeled \"help\", so you pick it up and the engineer answers.\n",
    "\n",
    "Before you can explain the situation, she suggests that you look out the window. There stands the engineer, holding a phone in one hand and waving with the other. You're going so slowly that you haven't even left the station. You exit the gondola.\n",
    "\n",
    "The missing part wasn't the only issue - one of the gears in the engine is wrong. A gear is any * symbol that is adjacent to exactly two part numbers. Its gear ratio is the result of multiplying those two numbers together.\n",
    "\n",
    "This time, you need to find the gear ratio of every gear and add them all up so that the engineer can figure out which gear needs to be replaced.\n",
    "\n",
    "Consider the same engine schematic again:\n",
    "\n",
    "467..114..\n",
    "\n",
    "...*......\n",
    "\n",
    "..35..633.\n",
    "\n",
    "......#...\n",
    "\n",
    "617*......\n",
    "\n",
    ".....+.58.\n",
    "\n",
    "..592.....\n",
    "\n",
    "......755.\n",
    "\n",
    "...$.*....\n",
    "\n",
    ".664.598..\n",
    "\n",
    "In this schematic, there are two gears. The first is in the top left; it has part numbers 467 and 35, so its gear ratio is 16345. The second gear is in the lower right; its gear ratio is 451490. (The * adjacent to 617 is not a gear because it is only adjacent to one part number.) Adding up all of the gear ratios produces 467835.\n",
    "\n",
    "What is the sum of all of the gear ratios in your engine schematic?"
   ]
  },
  {
   "cell_type": "code",
   "execution_count": 29,
   "metadata": {},
   "outputs": [],
   "source": [
    "def parseGears(input):\n",
    "    splitted_input = input.split(\"\\n\")\n",
    "    parsed_dict = {\n",
    "        # \"map_size\": (len(splitted_input[0]), len(splitted_input)),\n",
    "        \"numbers\": [],\n",
    "        \"gears\": []\n",
    "    }\n",
    "    for line_number, line in enumerate(splitted_input):\n",
    "        # print(line)\n",
    "        number_pattern = re_compile(r\"[0-9]+\")\n",
    "        symbol_pattern = re_compile(r\"[*]+\")\n",
    "        _numbers = parsed_dict[\"numbers\"]\n",
    "        _symbols = parsed_dict[\"gears\"]\n",
    "        for m in re_finditer(number_pattern, line):\n",
    "            _span = m.span()\n",
    "            item = (((_span[0], _span[1] - 1), (line_number, line_number)), int(m.group(0)))\n",
    "            _numbers.append(item)\n",
    "        for m in re_finditer(symbol_pattern, line):\n",
    "            _span = m.span()\n",
    "            item = (((_span[0], _span[1] - 1), (line_number, line_number)), m.group(0))\n",
    "            _symbols.append(item)\n",
    "    return parsed_dict\n",
    "\n",
    "def getNumbersAdjacentToGears(gears, numbers):\n",
    "    adj = []\n",
    "    for i, gear in enumerate(gears):\n",
    "        adjacent_numbers = []\n",
    "        gear_ = gear[0]\n",
    "        boundaries = ((gear_[0][0] - 1, gear_[0][1] + 1), (gear_[1][0] - 1, gear_[1][1] + 1))\n",
    "        for j, number in enumerate(numbers):\n",
    "            number_ = number[0]\n",
    "            if number_[0][0] <= boundaries[0][1] and number_[0][1] >= boundaries[0][0] and number_[1][0] <= boundaries[1][1] and number_[1][1] >= boundaries[1][0]:\n",
    "                adjacent_numbers.append(j)\n",
    "        adj.append((i, adjacent_numbers))\n",
    "    return adj\n"
   ]
  },
  {
   "cell_type": "code",
   "execution_count": 30,
   "metadata": {},
   "outputs": [
    {
     "name": "stdout",
     "output_type": "stream",
     "text": [
      "84883664\n"
     ]
    }
   ],
   "source": [
    "with open(\"Day3.txt\") as f:\n",
    "    input = f.read()\n",
    "    sum_ids = 0\n",
    "    parsed_map = parseGears(input)\n",
    "    _numbers = parsed_map[\"numbers\"]\n",
    "    gears = getNumbersAdjacentToGears(parsed_map[\"gears\"], _numbers)\n",
    "    _sum = 0\n",
    "    for gear in gears:\n",
    "        gear_ = gear[1]\n",
    "        if len(gear_) == 2:\n",
    "            _sum += _numbers[gear_[0]][1] * _numbers[gear_[1]][1]\n",
    "    print(_sum)"
   ]
  },
  {
   "cell_type": "code",
   "execution_count": null,
   "metadata": {},
   "outputs": [],
   "source": []
  }
 ],
 "metadata": {
  "kernelspec": {
   "display_name": "Python 3",
   "language": "python",
   "name": "python3"
  },
  "language_info": {
   "codemirror_mode": {
    "name": "ipython",
    "version": 3
   },
   "file_extension": ".py",
   "mimetype": "text/x-python",
   "name": "python",
   "nbconvert_exporter": "python",
   "pygments_lexer": "ipython3",
   "version": "3.9.15"
  }
 },
 "nbformat": 4,
 "nbformat_minor": 2
}
