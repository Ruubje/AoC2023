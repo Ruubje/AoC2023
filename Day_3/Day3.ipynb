{
 "cells": [
  {
   "cell_type": "markdown",
   "metadata": {},
   "source": [
    "# --- Day 3: Gear Ratios ---\n",
    "You and the Elf eventually reach a gondola lift station; he says the gondola lift will take you up to the water source, but this is as far as he can bring you. You go inside.\n",
    "\n",
    "It doesn't take long to find the gondolas, but there seems to be a problem: they're not moving.\n",
    "\n",
    "\"Aaah!\"\n",
    "\n",
    "You turn around to see a slightly-greasy Elf with a wrench and a look of surprise. \"Sorry, I wasn't expecting anyone! The gondola lift isn't working right now; it'll still be a while before I can fix it.\" You offer to help.\n",
    "\n",
    "The engineer explains that an engine part seems to be missing from the engine, but nobody can figure out which one. If you can add up all the part numbers in the engine schematic, it should be easy to work out which part is missing.\n",
    "\n",
    "The engine schematic (your puzzle input) consists of a visual representation of the engine. There are lots of numbers and symbols you don't really understand, but apparently any number adjacent to a symbol, even diagonally, is a \"part number\" and should be included in your sum. (Periods (.) do not count as a symbol.)\n",
    "\n",
    "Here is an example engine schematic:\n",
    "\n",
    "467..114..\n",
    "\n",
    "...*......\n",
    "\n",
    "..35..633.\n",
    "\n",
    "......#...\n",
    "\n",
    "617*......\n",
    "\n",
    ".....+.58.\n",
    "\n",
    "..592.....\n",
    "\n",
    "......755.\n",
    "\n",
    "...$.*....\n",
    "\n",
    ".664.598..\n",
    "\n",
    "In this schematic, two numbers are not part numbers because they are not adjacent to a symbol: 114 (top right) and 58 (middle right). Every other number is adjacent to a symbol and so is a part number; their sum is 4361.\n",
    "\n",
    "Of course, the actual engine schematic is much larger. What is the sum of all of the part numbers in the engine schematic?"
   ]
  },
  {
   "cell_type": "code",
   "execution_count": 10,
   "metadata": {},
   "outputs": [],
   "source": [
    "import re\n",
    "\n",
    "max_red = 12\n",
    "max_green = 13\n",
    "max_blue = 14\n",
    "\n",
    "def parseLine(line):\n",
    "    content = line.split(\":\")\n",
    "    game_id = content[0][5:]\n",
    "    games = content[1].split(\";\")\n",
    "    games_dict = {\n",
    "        \"id\": int(game_id),\n",
    "        \"games\": []\n",
    "    }\n",
    "    for game in games:\n",
    "        game_dict = {}\n",
    "        items = game.split(\",\")\n",
    "        for item in items:\n",
    "            item_content = item.strip().split(\" \")\n",
    "            game_dict[item_content[1]] = int(item_content[0])\n",
    "        games_dict[\"games\"].append(game_dict)\n",
    "    return games_dict"
   ]
  },
  {
   "cell_type": "code",
   "execution_count": 16,
   "metadata": {},
   "outputs": [
    {
     "name": "stdout",
     "output_type": "stream",
     "text": [
      "2439\n"
     ]
    }
   ],
   "source": [
    "with open(\"Day2.txt\") as f:\n",
    "    input = f.read()\n",
    "    sum_ids = 0\n",
    "    for line in input.split(\"\\n\"):\n",
    "        parsed_dict = parseLine(line)\n",
    "        correct = True\n",
    "        for game in parsed_dict[\"games\"]:\n",
    "            if \"red\" in game and game[\"red\"] > max_red or \"green\" in game and game[\"green\"] > max_green or \"blue\" in game and game[\"blue\"] > max_blue:\n",
    "                correct = False\n",
    "        if correct:\n",
    "            sum_ids += parsed_dict[\"id\"]\n",
    "    print(sum_ids)"
   ]
  },
  {
   "cell_type": "markdown",
   "metadata": {},
   "source": [
    "## --- Part Two ---\n",
    "The Elf says they've stopped producing snow because they aren't getting any water! He isn't sure why the water stopped; however, he can show you how to get to the water source to check it out for yourself. It's just up ahead!\n",
    "\n",
    "As you continue your walk, the Elf poses a second question: in each game you played, what is the fewest number of cubes of each color that could have been in the bag to make the game possible?\n",
    "\n",
    "Again consider the example games from earlier:\n",
    "\n",
    "Game 1: 3 blue, 4 red; 1 red, 2 green, 6 blue; 2 green\n",
    "Game 2: 1 blue, 2 green; 3 green, 4 blue, 1 red; 1 green, 1 blue\n",
    "Game 3: 8 green, 6 blue, 20 red; 5 blue, 4 red, 13 green; 5 green, 1 red\n",
    "Game 4: 1 green, 3 red, 6 blue; 3 green, 6 red; 3 green, 15 blue, 14 red\n",
    "Game 5: 6 red, 1 blue, 3 green; 2 blue, 1 red, 2 green\n",
    "In game 1, the game could have been played with as few as 4 red, 2 green, and 6 blue cubes. If any color had even one fewer cube, the game would have been impossible.\n",
    "Game 2 could have been played with a minimum of 1 red, 3 green, and 4 blue cubes.\n",
    "Game 3 must have been played with at least 20 red, 13 green, and 6 blue cubes.\n",
    "Game 4 required at least 14 red, 3 green, and 15 blue cubes.\n",
    "Game 5 needed no fewer than 6 red, 3 green, and 2 blue cubes in the bag.\n",
    "The power of a set of cubes is equal to the numbers of red, green, and blue cubes multiplied together. The power of the minimum set of cubes in game 1 is 48. In games 2-5 it was 12, 1560, 630, and 36, respectively. Adding up these five powers produces the sum 2286.\n",
    "\n",
    "For each game, find the minimum set of cubes that must have been present. What is the sum of the power of these sets?"
   ]
  },
  {
   "cell_type": "code",
   "execution_count": 18,
   "metadata": {},
   "outputs": [
    {
     "name": "stdout",
     "output_type": "stream",
     "text": [
      "63711\n"
     ]
    }
   ],
   "source": [
    "with open(\"Day2.txt\") as f:\n",
    "    input = f.read()\n",
    "    sum_products = 0\n",
    "    for line in input.split(\"\\n\"):\n",
    "        parsed_dict = parseLine(line)\n",
    "        max_red = 0\n",
    "        max_green = 0\n",
    "        max_blue = 0\n",
    "        for game in parsed_dict[\"games\"]:\n",
    "            if \"red\" in game:\n",
    "                max_red = max(max_red, game[\"red\"])\n",
    "            if \"green\" in game:\n",
    "                max_green = max(max_green, game[\"green\"])\n",
    "            if \"blue\" in game:\n",
    "                max_blue = max(max_blue, game[\"blue\"])\n",
    "        sum_products += max_red * max_green * max_blue\n",
    "    print(sum_products)"
   ]
  },
  {
   "cell_type": "code",
   "execution_count": null,
   "metadata": {},
   "outputs": [],
   "source": []
  }
 ],
 "metadata": {
  "kernelspec": {
   "display_name": "Python 3",
   "language": "python",
   "name": "python3"
  },
  "language_info": {
   "codemirror_mode": {
    "name": "ipython",
    "version": 3
   },
   "file_extension": ".py",
   "mimetype": "text/x-python",
   "name": "python",
   "nbconvert_exporter": "python",
   "pygments_lexer": "ipython3",
   "version": "3.12.0"
  }
 },
 "nbformat": 4,
 "nbformat_minor": 2
}
